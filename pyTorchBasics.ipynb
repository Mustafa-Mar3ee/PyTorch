{
  "nbformat": 4,
  "nbformat_minor": 0,
  "metadata": {
    "colab": {
      "provenance": []
    },
    "kernelspec": {
      "name": "python3",
      "display_name": "Python 3"
    },
    "language_info": {
      "name": "python"
    }
  },
  "cells": [
    {
      "cell_type": "markdown",
      "source": [
        "# PyTorch Basics with Examples\n",
        "This notebook demonstrates various PyTorch operations such as tensor creation, initialization, reshaping, and mathematical operations.\n",
        "\n",
        "---\n",
        "\n",
        "## 1. Importing Libraries and Checking PyTorch Version\n",
        "We start by importing the necessary libraries and verifying the PyTorch version.\n"
      ],
      "metadata": {
        "id": "cr8gD13C8i9S"
      }
    },
    {
      "cell_type": "code",
      "source": [
        "# Importing required libraries\n",
        "import torch\n",
        "import numpy as np\n",
        "\n",
        "# Display PyTorch version\n",
        "print(f\"Current PyTorch Version: {torch.__version__}\")\n",
        "\n",
        "# Device configuration\n",
        "device = torch.device(\"cuda\" if torch.cuda.is_available() else \"cpu\")\n",
        "print(f\"Using device: {device}\")\n"
      ],
      "metadata": {
        "colab": {
          "base_uri": "https://localhost:8080/"
        },
        "id": "94AGy2nV8vCF",
        "outputId": "c29bc27b-8540-4710-b09c-6e0b637d1a62"
      },
      "execution_count": 2,
      "outputs": [
        {
          "output_type": "stream",
          "name": "stdout",
          "text": [
            "Current PyTorch Version: 2.5.1+cu121\n",
            "Using device: cpu\n"
          ]
        }
      ]
    },
    {
      "cell_type": "markdown",
      "source": [
        "## 2. Tensor Creation and Initialization\n",
        "We demonstrate how to create and initialize tensors using various methods.\n"
      ],
      "metadata": {
        "id": "ANAL8o3O83xw"
      }
    },
    {
      "cell_type": "code",
      "source": [
        "# Create a new tensor\n",
        "tensor = torch.tensor([[1, 2, 3], [4, 5, 6]], dtype=torch.float32, device=device, requires_grad=True)\n",
        "print(f\"Tensor: \\n{tensor}\\nType: {tensor.dtype}\\nDevice: {tensor.device}\\nShape: {tensor.shape}\")\n",
        "\n",
        "# Tensor Initialization Methods\n",
        "empty_tensor = torch.empty(2, 3)\n",
        "zeros_tensor = torch.zeros((3, 3))\n",
        "rand_tensor = torch.rand((3, 3))\n",
        "eye_tensor = torch.eye(5, 5)  # Diagonal matrix\n",
        "arange_tensor = torch.arange(start=0, end=5, step=1)\n",
        "linspace_tensor = torch.linspace(start=0.1, end=1, steps=10)\n",
        "normal_tensor = torch.empty(2, 3).normal_(mean=0, std=1)\n",
        "uniform_tensor = torch.empty(2, 3).uniform_(0, 1)\n",
        "diag_tensor = torch.diag(torch.ones(3))\n",
        "\n",
        "# Display initialized tensors\n",
        "print(f\"Random Tensor: \\n{rand_tensor}\")\n",
        "print(f\"Diagonal Tensor: \\n{diag_tensor}\")\n"
      ],
      "metadata": {
        "colab": {
          "base_uri": "https://localhost:8080/"
        },
        "id": "Xu1PVImR8x1K",
        "outputId": "493a6561-fac7-46c6-f71c-6b99cde5cbb8"
      },
      "execution_count": 3,
      "outputs": [
        {
          "output_type": "stream",
          "name": "stdout",
          "text": [
            "Tensor: \n",
            "tensor([[1., 2., 3.],\n",
            "        [4., 5., 6.]], requires_grad=True)\n",
            "Type: torch.float32\n",
            "Device: cpu\n",
            "Shape: torch.Size([2, 3])\n",
            "Random Tensor: \n",
            "tensor([[0.5482, 0.4427, 0.8040],\n",
            "        [0.7555, 0.8627, 0.0284],\n",
            "        [0.7924, 0.5963, 0.4813]])\n",
            "Diagonal Tensor: \n",
            "tensor([[1., 0., 0.],\n",
            "        [0., 1., 0.],\n",
            "        [0., 0., 1.]])\n"
          ]
        }
      ]
    },
    {
      "cell_type": "code",
      "source": [],
      "metadata": {
        "id": "zpPlfzdC86JW"
      },
      "execution_count": null,
      "outputs": []
    },
    {
      "cell_type": "markdown",
      "source": [
        "## 3. Basic Tensor Operations\n",
        "We perform basic arithmetic operations on tensors, including addition, subtraction, division, and exponentiation.\n"
      ],
      "metadata": {
        "id": "TBhX6qtv88yU"
      }
    },
    {
      "cell_type": "code",
      "source": [
        "# Basic Tensor Operations\n",
        "x = torch.tensor([-1, 2, 3])\n",
        "y = torch.tensor([1, 2, 3])\n",
        "z_add = x + y\n",
        "z_sub = x - y\n",
        "z_div = torch.true_divide(x, y)\n",
        "z_pow = x.pow(2)\n",
        "\n",
        "print(f\"Addition: {z_add}\\nSubtraction: {z_sub}\\nDivision: {z_div}\\nPower: {z_pow}\")\n"
      ],
      "metadata": {
        "colab": {
          "base_uri": "https://localhost:8080/"
        },
        "id": "d0dikzI289Rm",
        "outputId": "da93e667-c999-4b57-8524-510112273bb9"
      },
      "execution_count": 4,
      "outputs": [
        {
          "output_type": "stream",
          "name": "stdout",
          "text": [
            "Addition: tensor([0, 4, 6])\n",
            "Subtraction: tensor([-2,  0,  0])\n",
            "Division: tensor([-1.,  1.,  1.])\n",
            "Power: tensor([1, 4, 9])\n"
          ]
        }
      ]
    },
    {
      "cell_type": "markdown",
      "source": [
        "## 4. Matrix Operations\n",
        "This section covers matrix multiplication, broadcasting, and advanced operations like dot products and batch matrix multiplications.\n"
      ],
      "metadata": {
        "id": "lqA7RZCM9Dg5"
      }
    },
    {
      "cell_type": "code",
      "source": [
        "# Matrix Multiplications\n",
        "mat1 = torch.rand((2, 5))\n",
        "mat2 = torch.rand((5, 3))\n",
        "mat_mult = torch.mm(mat1, mat2)\n",
        "print(f\"Matrix Multiplication Result: \\n{mat_mult}\")\n",
        "\n",
        "# Broadcasting\n",
        "x1 = torch.rand(5, 5)\n",
        "x2 = torch.rand(1, 5)\n",
        "broadcast_result = x1 - x2\n",
        "print(f\"Broadcast Result: \\n{broadcast_result}\")\n"
      ],
      "metadata": {
        "colab": {
          "base_uri": "https://localhost:8080/"
        },
        "id": "a8XF5u3W9EDt",
        "outputId": "8a98a926-0673-4c29-e42c-23b532faf68f"
      },
      "execution_count": 5,
      "outputs": [
        {
          "output_type": "stream",
          "name": "stdout",
          "text": [
            "Matrix Multiplication Result: \n",
            "tensor([[1.5986, 1.1453, 0.4412],\n",
            "        [1.7125, 1.0257, 0.7732]])\n",
            "Broadcast Result: \n",
            "tensor([[-0.0446, -0.7520, -0.2719, -0.5760, -0.1463],\n",
            "        [ 0.7172, -0.4574,  0.2537, -0.2143, -0.6114],\n",
            "        [ 0.5646, -0.6743, -0.1540, -0.8040, -0.6644],\n",
            "        [ 0.1420, -0.0947,  0.2143, -0.6385, -0.5012],\n",
            "        [ 0.4302, -0.2654,  0.2967, -0.8954,  0.0660]])\n"
          ]
        }
      ]
    },
    {
      "cell_type": "markdown",
      "source": [
        "## 5. Reshaping and Indexing\n",
        "Learn how to reshape tensors and perform advanced indexing techniques.\n"
      ],
      "metadata": {
        "id": "XsN2o0Vp9ItM"
      }
    },
    {
      "cell_type": "code",
      "source": [
        "# Reshaping Tensors\n",
        "x = torch.arange(9)\n",
        "reshaped = x.view(3, 3)\n",
        "transposed = reshaped.t()\n",
        "print(f\"Reshaped Tensor: \\n{reshaped}\\nTransposed Tensor: \\n{transposed}\")\n",
        "\n",
        "# Indexing and Conditional Selection\n",
        "x = torch.arange(10)\n",
        "indices = [2, 5, 8]\n",
        "selected = x[indices]\n",
        "print(f\"Selected Indices: {selected}\")\n"
      ],
      "metadata": {
        "colab": {
          "base_uri": "https://localhost:8080/"
        },
        "id": "J0Tloecw9JGZ",
        "outputId": "4f7b8e51-1150-4703-bbb1-59767aad9b88"
      },
      "execution_count": 6,
      "outputs": [
        {
          "output_type": "stream",
          "name": "stdout",
          "text": [
            "Reshaped Tensor: \n",
            "tensor([[0, 1, 2],\n",
            "        [3, 4, 5],\n",
            "        [6, 7, 8]])\n",
            "Transposed Tensor: \n",
            "tensor([[0, 3, 6],\n",
            "        [1, 4, 7],\n",
            "        [2, 5, 8]])\n",
            "Selected Indices: tensor([2, 5, 8])\n"
          ]
        }
      ]
    },
    {
      "cell_type": "code",
      "source": [],
      "metadata": {
        "id": "7WwpTwaC9LUx"
      },
      "execution_count": null,
      "outputs": []
    }
  ]
}